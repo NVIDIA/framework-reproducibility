{
 "cells": [
  {
   "cell_type": "code",
   "execution_count": null,
   "metadata": {},
   "outputs": [],
   "source": [
    "# Copyright (c) 2022, NVIDIA CORPORATION. All rights reserved.\n",
    "#\n",
    "# Licensed under the Apache License, Version 2.0 (the \"License\");\n",
    "# you may not use this file except in compliance with the License.\n",
    "# You may obtain a copy of the License at\n",
    "#\n",
    "#     http://www.apache.org/licenses/LICENSE-2.0\n",
    "#\n",
    "# Unless required by applicable law or agreed to in writing, software\n",
    "# distributed under the License is distributed on an \"AS IS\" BASIS,\n",
    "# WITHOUT WARRANTIES OR CONDITIONS OF ANY KIND, either express or implied.\n",
    "# See the License for the specific language governing permissions and\n",
    "# limitations under the License.\n",
    "# =============================================================================="
   ]
  },
  {
   "cell_type": "code",
   "execution_count": null,
   "id": "5ee0816a-1615-4b1a-bf91-e70aa595403b",
   "metadata": {},
   "outputs": [],
   "source": [
    "from plot_utils import plot_losses_from_logs"
   ]
  },
  {
   "cell_type": "markdown",
   "id": "1b86b2b9-f9e7-463a-bd74-a19f23925eee",
   "metadata": {},
   "source": [
    "Use globbing to include the relevant logs.\n",
    "* `logs_fullSeedOn` should contain dllogger logs for training till epoch X, with seeding on\n",
    "* `logs_firstPartSeedOn` should contain dllogger logs for training till epoch X/2, with seeding on\n",
    "* `logs_secondPartSeedOn` should contain dllogger logs for training from checkpoints at X/2 till epoch X, with seeding on\n",
    "* `logs_fullSeedOff` should contain dllogger logs for training till epoch X, with seeding off"
   ]
  },
  {
   "cell_type": "code",
   "execution_count": null,
   "id": "611d67d0-d6e4-4652-93d3-418f5a6a536f",
   "metadata": {},
   "outputs": [],
   "source": [
    "all_logs = {\"fullSeedOn\" : \"../../logs/jasper-dlcluster/log_SeedOn?_ep4.json\", \n",
    "            \"firstPartSeedOn\" : \"../../logs/jasper-dlcluster/log_SeedOn?_ep2.json\", \n",
    "            \"secondPartSeedOn\" : \"../../logs/jasper-dlcluster/log_SeedOn?_ep2-4.json\",\n",
    "            \"logs_fullSeedOff\" : \"../../logs/jasper-dlcluster/log_SeedOff?_ep4.json\"\n",
    "           }"
   ]
  },
  {
   "cell_type": "code",
   "execution_count": null,
   "id": "0d6a8aee-0123-4dbe-bb1d-7080b2718f4c",
   "metadata": {},
   "outputs": [],
   "source": [
    "plot_losses_from_logs(all_logs)"
   ]
  }
 ],
 "metadata": {
  "kernelspec": {
   "display_name": "Python 3",
   "language": "python",
   "name": "python3"
  },
  "language_info": {
   "codemirror_mode": {
    "name": "ipython",
    "version": 3
   },
   "file_extension": ".py",
   "mimetype": "text/x-python",
   "name": "python",
   "nbconvert_exporter": "python",
   "pygments_lexer": "ipython3",
   "version": "3.8.10"
  }
 },
 "nbformat": 4,
 "nbformat_minor": 5
}
